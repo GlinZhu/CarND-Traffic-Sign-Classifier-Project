{
 "cells": [
  {
   "cell_type": "markdown",
   "metadata": {},
   "source": [
    "# Self-Driving Car Engineer Nanodegree\n",
    "\n",
    "## Deep Learning\n",
    "\n",
    "## Project: Build a Traffic Sign Recognition Classifier\n",
    "\n",
    "In this notebook, a template is provided for you to implement your functionality in stages, which is required to successfully complete this project. If additional code is required that cannot be included in the notebook, be sure that the Python code is successfully imported and included in your submission if necessary. \n",
    "\n",
    "> **Note**: Once you have completed all of the code implementations, you need to finalize your work by exporting the iPython Notebook as an HTML document. Before exporting the notebook to html, all of the code cells need to have been run so that reviewers can see the final implementation and output. You can then export the notebook by using the menu above and navigating to  \\n\",\n",
    "    \"**File -> Download as -> HTML (.html)**. Include the finished document along with this notebook as your submission. \n",
    "\n",
    "In addition to implementing code, there is a writeup to complete. The writeup should be completed in a separate file, which can be either a markdown file or a pdf document. There is a [write up template](https://github.com/udacity/CarND-Traffic-Sign-Classifier-Project/blob/master/writeup_template.md) that can be used to guide the writing process. Completing the code template and writeup template will cover all of the [rubric points](https://review.udacity.com/#!/rubrics/481/view) for this project.\n",
    "\n",
    "The [rubric](https://review.udacity.com/#!/rubrics/481/view) contains \"Stand Out Suggestions\" for enhancing the project beyond the minimum requirements. The stand out suggestions are optional. If you decide to pursue the \"stand out suggestions\", you can include the code in this Ipython notebook and also discuss the results in the writeup file.\n",
    "\n",
    "\n",
    ">**Note:** Code and Markdown cells can be executed using the **Shift + Enter** keyboard shortcut. In addition, Markdown cells can be edited by typically double-clicking the cell to enter edit mode."
   ]
  },
  {
   "cell_type": "markdown",
   "metadata": {},
   "source": [
    "---\n",
    "## Step 0: Load The Data"
   ]
  },
  {
   "cell_type": "code",
   "execution_count": 55,
   "metadata": {},
   "outputs": [],
   "source": [
    "# Load pickled data\n",
    "import pickle\n",
    "\n",
    "# TODO: Fill this in based on where you saved the training and testing data\n",
    "\n",
    "training_file = './data/train.p'\n",
    "validation_file='./data/valid.p'\n",
    "testing_file = './data/test.p'\n",
    "\n",
    "with open(training_file, mode='rb') as f:\n",
    "    train = pickle.load(f)\n",
    "with open(validation_file, mode='rb') as f:\n",
    "    valid = pickle.load(f)\n",
    "with open(testing_file, mode='rb') as f:\n",
    "    test = pickle.load(f)\n",
    "    \n",
    "X_train, y_train = train['features'], train['labels']\n",
    "X_valid, y_valid = valid['features'], valid['labels']\n",
    "X_test, y_test = test['features'], test['labels']"
   ]
  },
  {
   "cell_type": "markdown",
   "metadata": {},
   "source": [
    "---\n",
    "\n",
    "## Step 1: Dataset Summary & Exploration\n",
    "\n",
    "The pickled data is a dictionary with 4 key/value pairs:\n",
    "\n",
    "- `'features'` is a 4D array containing raw pixel data of the traffic sign images, (num examples, width, height, channels).\n",
    "- `'labels'` is a 1D array containing the label/class id of the traffic sign. The file `signnames.csv` contains id -> name mappings for each id.\n",
    "- `'sizes'` is a list containing tuples, (width, height) representing the original width and height the image.\n",
    "- `'coords'` is a list containing tuples, (x1, y1, x2, y2) representing coordinates of a bounding box around the sign in the image. **THESE COORDINATES ASSUME THE ORIGINAL IMAGE. THE PICKLED DATA CONTAINS RESIZED VERSIONS (32 by 32) OF THESE IMAGES**\n",
    "\n",
    "Complete the basic data summary below. Use python, numpy and/or pandas methods to calculate the data summary rather than hard coding the results. For example, the [pandas shape method](http://pandas.pydata.org/pandas-docs/stable/generated/pandas.DataFrame.shape.html) might be useful for calculating some of the summary results. "
   ]
  },
  {
   "cell_type": "markdown",
   "metadata": {},
   "source": [
    "### Provide a Basic Summary of the Data Set Using Python, Numpy and/or Pandas"
   ]
  },
  {
   "cell_type": "code",
   "execution_count": 56,
   "metadata": {},
   "outputs": [
    {
     "name": "stdout",
     "output_type": "stream",
     "text": [
      "Number of training examples = 34799\n",
      "Number of validation examples = 34799\n",
      "Number of testing examples = 12630\n",
      "Image data shape = (32, 32, 3)\n",
      "Number of classes = 43\n"
     ]
    }
   ],
   "source": [
    "### Replace each question mark with the appropriate value. \n",
    "### Use python, pandas or numpy methods rather than hard coding the results\n",
    "import numpy as np\n",
    "import csv\n",
    "# TODO: Number of training examples\n",
    "n_train = len(X_train)\n",
    "\n",
    "# TODO: Number of validation examples\n",
    "n_validation = len(X_train)\n",
    "\n",
    "# TODO: Number of testing examples.\n",
    "n_test = len(X_test)\n",
    "\n",
    "# TODO: What's the shape of an traffic sign image?\n",
    "image_shape = X_train[0].shape\n",
    "\n",
    "# TODO: How many unique classes/labels there are in the dataset.\n",
    "n_classes = len(np.unique(y_train))\n",
    "\n",
    "\n",
    "\n",
    "print(\"Number of training examples =\", n_train)\n",
    "print(\"Number of validation examples =\", n_validation)\n",
    "print(\"Number of testing examples =\", n_test)\n",
    "print(\"Image data shape =\", image_shape)\n",
    "print(\"Number of classes =\", n_classes)\n",
    "\n"
   ]
  },
  {
   "cell_type": "markdown",
   "metadata": {},
   "source": [
    "### Include an exploratory visualization of the dataset"
   ]
  },
  {
   "cell_type": "markdown",
   "metadata": {},
   "source": [
    "Visualize the German Traffic Signs Dataset using the pickled file(s). This is open ended, suggestions include: plotting traffic sign images, plotting the count of each sign, etc. \n",
    "\n",
    "The [Matplotlib](http://matplotlib.org/) [examples](http://matplotlib.org/examples/index.html) and [gallery](http://matplotlib.org/gallery.html) pages are a great resource for doing visualizations in Python.\n",
    "\n",
    "**NOTE:** It's recommended you start with something simple first. If you wish to do more, come back to it after you've completed the rest of the sections. It can be interesting to look at the distribution of classes in the training, validation and test set. Is the distribution the same? Are there more examples of some classes than others?"
   ]
  },
  {
   "cell_type": "code",
   "execution_count": 57,
   "metadata": {},
   "outputs": [
    {
     "name": "stdout",
     "output_type": "stream",
     "text": [
      "(32, 32, 3)\n"
     ]
    },
    {
     "data": {
      "image/png": "[encoded data removed]",
      "text/plain": [
       "<matplotlib.figure.Figure at 0x7fbc2dbb8588>"
      ]
     },
     "metadata": {},
     "output_type": "display_data"
    }
   ],
   "source": [
    "### Data exploration visualization code goes here.\n",
    "### Feel free to use as many code cells as needed.\n",
    "import matplotlib.pyplot as plt\n",
    "import random\n",
    "import cv2\n",
    "# Visualizations will be shown in the notebook.\n",
    "%matplotlib inline\n",
    "\n",
    "index=random.randint(0,len(X_train))   #get an image radomly from training set\n",
    "image=X_train[index]\n",
    "plt.imshow(image)\n",
    "print(X_train[index].shape)"
   ]
  },
  {
   "cell_type": "code",
   "execution_count": 58,
   "metadata": {
    "scrolled": false
   },
   "outputs": [
    {
     "name": "stdout",
     "output_type": "stream",
     "text": [
      "ClassId,SignName\n",
      "0,Speed limit (20km/h)\n",
      "1,Speed limit (30km/h)\n",
      "2,Speed limit (50km/h)\n",
      "3,Speed limit (60km/h)\n",
      "4,Speed limit (70km/h)\n",
      "5,Speed limit (80km/h)\n",
      "6,End of speed limit (80km/h)\n",
      "7,Speed limit (100km/h)\n",
      "8,Speed limit (120km/h)\n",
      "9,No passing\n",
      "10,No passing for vehicles over 3.5 metric tons\n",
      "11,Right-of-way at the next intersection\n",
      "12,Priority road\n",
      "13,Yield\n",
      "14,Stop\n",
      "15,No vehicles\n",
      "16,Vehicles over 3.5 metric tons prohibited\n",
      "17,No entry\n",
      "18,General caution\n",
      "19,Dangerous curve to the left\n",
      "20,Dangerous curve to the right\n",
      "21,Double curve\n",
      "22,Bumpy road\n",
      "23,Slippery road\n",
      "24,Road narrows on the right\n",
      "25,Road work\n",
      "26,Traffic signals\n",
      "27,Pedestrians\n",
      "28,Children crossing\n",
      "29,Bicycles crossing\n",
      "30,Beware of ice/snow\n",
      "31,Wild animals crossing\n",
      "32,End of all speed and passing limits\n",
      "33,Turn right ahead\n",
      "34,Turn left ahead\n",
      "35,Ahead only\n",
      "36,Go straight or right\n",
      "37,Go straight or left\n",
      "38,Keep right\n",
      "39,Keep left\n",
      "40,Roundabout mandatory\n",
      "41,End of no passing\n",
      "42,End of no passing by vehicles over 3.5 metric tons\n"
     ]
    },
    {
     "data": {
      "image/png": "[encoded data removed]",
      "text/plain": [
       "<matplotlib.figure.Figure at 0x7fbc2e28d390>"
      ]
     },
     "metadata": {},
     "output_type": "display_data"
    },
    {
     "data": {
      "image/png": "[encoded data removed]",
      "text/plain": [
       "<matplotlib.figure.Figure at 0x7fbc2db8f7f0>"
      ]
     },
     "metadata": {},
     "output_type": "display_data"
    }
   ],
   "source": [
    "### Visualizing the distribution of training set, validation sets as well as test set\n",
    "from itertools import groupby\n",
    "labels=[]\n",
    "with open('signnames.csv','r') as csvfile:\n",
    "    \n",
    "    read=csv.reader(csvfile,delimiter=',')\n",
    "    for row in read:\n",
    "        labels+=[row[1]]\n",
    "        print(','.join(row))\n",
    "    \n",
    "    #print(labels)\n",
    "index=np.arange(n_classes)\n",
    "train_num=[len(list(g)) for k, g in groupby(y_train)]\n",
    "\n",
    "fig, ax = plt.subplots(figsize=(12,8))\n",
    "ax.bar(index, train_num, align='center',color='#0504aa')\n",
    "plt.grid(axis='y',alpha=0.75)\n",
    "plt.xlabel('Calss ID')\n",
    "plt.ylabel('distribution of training set')\n",
    "plt.title('The distribution of Training_set')\n",
    "fig.savefig(\"./examples/Training_set.png\", dpi=25)  # results in 160x120 px image\n",
    "## Distribnution of test set\n",
    "fig, ax = plt.subplots(figsize=(12,8))\n",
    "hist, bins = np.histogram(y_test, bins=n_classes)\n",
    "width = 0.7 * (bins[1] - bins[0])\n",
    "center = (bins[:-1] + bins[1:]) / 2\n",
    "plt.bar(center, hist, align='center', width=width,color='r')\n",
    "plt.grid(axis='y',alpha=0.75)\n",
    "plt.xlabel('Calss ID')\n",
    "plt.ylabel('distribution of test set')\n",
    "plt.title('The distribution of test set')\n",
    "fig.savefig(\"./examples/Test_set.png\", dpi=25)  # results in 160x120 px image\n",
    "\n"
   ]
  },
  {
   "cell_type": "markdown",
   "metadata": {},
   "source": [
    "----\n",
    "\n",
    "## Step 2: Design and Test a Model Architecture\n",
    "\n",
    "Design and implement a deep learning model that learns to recognize traffic signs. Train and test your model on the [German Traffic Sign Dataset](http://benchmark.ini.rub.de/?section=gtsrb&subsection=dataset).\n",
    "\n",
    "The LeNet-5 implementation shown in the [classroom](https://classroom.udacity.com/nanodegrees/nd013/parts/fbf77062-5703-404e-b60c-95b78b2f3f9e/modules/6df7ae49-c61c-4bb2-a23e-6527e69209ec/lessons/601ae704-1035-4287-8b11-e2c2716217ad/concepts/d4aca031-508f-4e0b-b493-e7b706120f81) at the end of the CNN lesson is a solid starting point. You'll have to change the number of classes and possibly the preprocessing, but aside from that it's plug and play! \n",
    "\n",
    "With the LeNet-5 solution from the lecture, you should expect a validation set accuracy of about 0.89. To meet specifications, the validation set accuracy will need to be at least 0.93. It is possible to get an even higher accuracy, but 0.93 is the minimum for a successful project submission. \n",
    "\n",
    "There are various aspects to consider when thinking about this problem:\n",
    "\n",
    "- Neural network architecture (is the network over or underfitting?)\n",
    "- Play around preprocessing techniques (normalization, rgb to grayscale, etc)\n",
    "- Number of examples per label (some have more than others).\n",
    "- Generate fake data.\n",
    "\n",
    "Here is an example of a [published baseline model on this problem](http://yann.lecun.com/exdb/publis/pdf/sermanet-ijcnn-11.pdf). It's not required to be familiar with the approach used in the paper but, it's good practice to try to read papers like these."
   ]
  },
  {
   "cell_type": "markdown",
   "metadata": {},
   "source": [
    "### Pre-process the Data Set (normalization, grayscale, etc.)"
   ]
  },
  {
   "cell_type": "markdown",
   "metadata": {},
   "source": [
    "Minimally, the image data should be normalized so that the data has mean zero and equal variance. For image data, `(pixel - 128)/ 128` is a quick way to approximately normalize the data and can be used in this project. \n",
    "\n",
    "Other pre-processing steps are optional. You can try different techniques to see if it improves performance. \n",
    "\n",
    "Use the code cell (or multiple code cells, if necessary) to implement the first step of your project."
   ]
  },
  {
   "cell_type": "code",
   "execution_count": 59,
   "metadata": {},
   "outputs": [
    {
     "name": "stdout",
     "output_type": "stream",
     "text": [
      "Current training set 27839\n",
      "Current validation set 6960\n"
     ]
    }
   ],
   "source": [
    "### Split the validation set from training set\n",
    "from sklearn.model_selection import train_test_split\n",
    "X_train, X_validation, y_train, y_validation = train_test_split(X_train, y_train, test_size=0.20, random_state=42)\n",
    "X_train_original=[]\n",
    "X_train_original=X_train\n",
    "print('Current training set',len(X_train))\n",
    "print('Current validation set',len(X_validation))\n"
   ]
  },
  {
   "cell_type": "code",
   "execution_count": 60,
   "metadata": {},
   "outputs": [
    {
     "name": "stdout",
     "output_type": "stream",
     "text": [
      "27839\n",
      "(27839, 32, 32, 1)\n",
      "(27839, 32, 32, 1)\n",
      "done\n"
     ]
    }
   ],
   "source": [
    "### Preprocess the data here. It is required to normalize the data. Other preprocessing steps could include \n",
    "### converting to grayscale, etc.\n",
    "X_train_gray=np.sum(X_train,axis=3,keepdims=True)\n",
    "X_validation_gray=np.sum(X_validation,axis=3,keepdims=True)\n",
    "X_test_gray=np.sum(X_test,axis=3,keepdims=True)\n",
    "# Normalize the data\n",
    "###(x-np.mean(x))/(np.std(x, axis=0))\n",
    "\n",
    "X_train_nor=(X_train_gray-np.mean(X_train_gray))/(np.std(X_train_gray, axis=0))\n",
    "X_valid_nor=(X_validation_gray-np.mean(X_validation_gray))/(np.std(X_validation_gray, axis=0))\n",
    "X_test_nor=(X_test_gray-np.mean(X_test_gray))/(np.std(X_test_gray, axis=0))\n",
    "\n",
    "## normalize data using (pixel - 128)/ 128\n",
    "#X_train_nor=(X_train_gray-128)/128\n",
    "#X_valid_nor=(X_valid_gray-128)/128\n",
    "#X_test_nor=(X_test_gray-128)/128\n",
    "\n",
    "\n",
    "X_train=X_train_nor\n",
    "X_validation=X_valid_nor\n",
    "X_test=X_test_nor\n",
    "\n",
    "\n",
    "print(len(X_train_nor))\n",
    "\n",
    "\n",
    "print(X_train_gray.shape)\n",
    "print(X_train_nor.shape)    \n",
    "print('done')"
   ]
  },
  {
   "cell_type": "code",
   "execution_count": 62,
   "metadata": {},
   "outputs": [
    {
     "data": {
      "image/png": "[encoded data removed]",
      "text/plain": [
       "<matplotlib.figure.Figure at 0x7fbc2d8ce438>"
      ]
     },
     "metadata": {},
     "output_type": "display_data"
    }
   ],
   "source": [
    "### print the grayscale images and normalized images\n",
    "import pandas as pd\n",
    "random.seed(1)\n",
    "index=random.randint(0,len(X_train))   #get an image radomly from training set\n",
    "image=X_train_original[index]\n",
    "image_nor=X_train_nor[index]\n",
    "image_gray=X_train_gray[index]\n",
    "fig,axs=plt.subplots(1,3, figsize=(10,3))\n",
    "axs=axs.ravel()\n",
    "axs[0].axis('off')\n",
    "axs[0].set_title('Original')\n",
    "axs[0].imshow(image)\n",
    "\n",
    "axs[1].axis('off')\n",
    "axs[1].set_title('gray')\n",
    "axs[1].imshow(image_gray.squeeze(),cmap='gray')\n",
    "\n",
    "\n",
    "axs[2].axis('off')\n",
    "axs[2].set_title('Normalized image')\n",
    "axs[2].imshow(image_nor.squeeze(), cmap='gray')\n",
    "\n",
    "fig.savefig(\"./examples/gray_normalize.png\")"
   ]
  },
  {
   "cell_type": "code",
   "execution_count": 50,
   "metadata": {},
   "outputs": [
    {
     "data": {
      "text/plain": [
       "<matplotlib.image.AxesImage at 0x7fbc240c5eb8>"
      ]
     },
     "execution_count": 50,
     "metadata": {},
     "output_type": "execute_result"
    }
   ],
   "source": [
    "\n",
    "\n",
    "\n"
   ]
  },
  {
   "cell_type": "markdown",
   "metadata": {},
   "source": [
    "### Model Architecture"
   ]
  },
  {
   "cell_type": "code",
   "execution_count": 62,
   "metadata": {},
   "outputs": [],
   "source": [
    "### Define your architecture here.\n",
    "### Feel free to use as many code cells as needed.\n",
    "## Define the hyperparameters \n",
    "from sklearn.utils import shuffle\n",
    "import tensorflow as tf\n",
    "\n",
    "X_train, y_train = shuffle(X_train, y_train)  # shuffle the training set\n",
    "\n",
    "Epochs=50\n",
    "Batch_size=64"
   ]
  },
  {
   "cell_type": "code",
   "execution_count": 63,
   "metadata": {},
   "outputs": [],
   "source": [
    "### Implementing LeNet-5 model\n",
    "## the classic archi: Input-->Conv-->Relu-->Max pool--->Conv--->Relu--->Max pool-->FC--->Relu--FC\n",
    "from tensorflow.contrib.layers import flatten\n",
    "def LeNet(x):\n",
    "# Layer1: using filter 5*5 to get the output of 28*28*6 feature maps\n",
    "    weights_l1=tf.Variable(tf.truncated_normal(shape=(5,5,1,6),mean=0,stddev=0.1))\n",
    "    bias_l1=tf.Variable(tf.zeros(6))\n",
    "    L1=tf.nn.conv2d(x,weights_l1,strides=[1,1,1,1],padding='VALID')+bias_l1\n",
    "\n",
    "# activation: using Relu to get the nonlinearity\n",
    "    L1=tf.nn.relu(L1)\n",
    "\n",
    "# max pooling to get the output of 14*14*6\n",
    "    L1=tf.nn.max_pool(L1,ksize=[1,2,2,1],strides=[1,2,2,1],padding='VALID')\n",
    "\n",
    "# Layer2: Convolutional of Input and filters to get 10*10*16\n",
    "    weights_l2=tf.Variable(tf.truncated_normal(shape=(5,5,6,16),mean=0,stddev=0.1))\n",
    "    bias_l2=tf.Variable(tf.zeros(16))\n",
    "    L2=tf.nn.conv2d(L1,weights_l2,strides=[1,1,1,1],padding='VALID')+bias_l2\n",
    "\n",
    "# Activation: Relu\n",
    "    L2=tf.nn.relu(L2)\n",
    "# Max pooling: 5*5*16\n",
    "    L2=tf.nn.max_pool(L2,ksize=[1,2,2,1],strides=[1,2,2,1],padding='VALID')\n",
    "# Layer3: fully connected of 120 outputs\n",
    "    L2_output=flatten(L2)\n",
    "    weights_l3=tf.Variable(tf.truncated_normal(shape=(400,120),mean=0,stddev=0.1))\n",
    "    bias_l3=tf.Variable(tf.zeros(120))\n",
    "\n",
    "    L3=tf.add(tf.matmul(L2_output,weights_l3),bias_l3)\n",
    "# Activation\n",
    "    L3=tf.nn.relu(L3)\n",
    "# Layer4: Fully conneccted of 84 outputs\n",
    "    weights_l4=tf.Variable(tf.truncated_normal(shape=(120,84),mean=0,stddev=0.1))\n",
    "    bias_l4=tf.Variable(tf.zeros(84))\n",
    "    L4=tf.add(tf.matmul(L3,weights_l4),bias_l4)\n",
    "# Activation\n",
    "    L4=tf.nn.relu(L4)\n",
    "\n",
    "# Logits: the output should have total 43 classes\n",
    "    weights_l5=tf.Variable(tf.truncated_normal(shape=(84,43),mean=0,stddev=0.1))\n",
    "    bias_l5=tf.Variable(tf.zeros(43))\n",
    "    logits=tf.add(tf.matmul(L4,weights_l5),bias_l5)\n",
    "    \n",
    "    return logits"
   ]
  },
  {
   "cell_type": "markdown",
   "metadata": {},
   "source": [
    "### Train, Validate and Test the Model"
   ]
  },
  {
   "cell_type": "markdown",
   "metadata": {},
   "source": [
    "A validation set can be used to assess how well the model is performing. A low accuracy on the training and validation\n",
    "sets imply underfitting. A high accuracy on the training set but low accuracy on the validation set implies overfitting."
   ]
  },
  {
   "cell_type": "code",
   "execution_count": 64,
   "metadata": {},
   "outputs": [],
   "source": [
    "### Train your model here.\n",
    "x=tf.placeholder(tf.float32,(None,32,32,1))\n",
    "y=tf.placeholder(tf.int32,(None))\n",
    "one_hot_y=tf.one_hot(y,n_classes)\n",
    "\n",
    "# Train the model\n",
    "## Learning rate decay\n",
    "train_size=y_train.shape[0]\n",
    "start_rate=0.0009\n",
    "global_step=tf.Variable(0,trainable=False)\n",
    "learning_rate = tf.train.exponential_decay(start_rate, global_step*Batch_size,train_size, 0.96, staircase=True)\n",
    "\n",
    "\n",
    "logits=LeNet(x)\n",
    "cross_entropy=tf.nn.softmax_cross_entropy_with_logits(labels=one_hot_y,logits=logits)\n",
    "loss_operation=tf.reduce_mean(cross_entropy)\n",
    "## L2 regularization for fully connected layers\n",
    "weights_l3=tf.Variable(tf.truncated_normal(shape=(400,120),mean=0,stddev=0.1))\n",
    "bias_l3=tf.Variable(tf.zeros(120))\n",
    "weights_l4=tf.Variable(tf.truncated_normal(shape=(120,84),mean=0,stddev=0.1))\n",
    "bias_l4=tf.Variable(tf.zeros(84))\n",
    "regularization=(tf.nn.l2_loss(weights_l3) + tf.nn.l2_loss(bias_l3) +tf.nn.l2_loss(weights_l4) + tf.nn.l2_loss(bias_l4))\n",
    "\n",
    "## Add the regularization term to the loss\n",
    "loss_operation+=5e-4*regularization\n",
    "\n",
    "optimizer = tf.train.AdamOptimizer(learning_rate = learning_rate)\n",
    "training_operation = optimizer.minimize(loss_operation,global_step=global_step)"
   ]
  },
  {
   "cell_type": "code",
   "execution_count": 65,
   "metadata": {},
   "outputs": [],
   "source": [
    "### Calculate and report the accuracy on the training and validation set.\n",
    "### Once a final model architecture is selected, \n",
    "### the accuracy on the test set should be calculated and reported as well.\n",
    "### Feel free to use as many code cells as needed.\n",
    "\n",
    "correct_prediction=tf.equal(tf.argmax(logits,1),tf.argmax(one_hot_y,1))\n",
    "accuracy_operation=tf.reduce_mean(tf.cast(correct_prediction,tf.float32))\n",
    "saver=tf.train.Saver()\n",
    "\n",
    "def evaluate(x_data,y_data):\n",
    "    n_examples=len(x_data)\n",
    "    total_accuracy=0\n",
    "    sess=tf.get_default_session()\n",
    "    for offset in range(0,n_examples,Batch_size):\n",
    "        batch_x,batch_y=x_data[offset:offset+Batch_size],y_data[offset:offset+Batch_size]\n",
    "        accuracy=sess.run(accuracy_operation,feed_dict={x:batch_x,y:batch_y})\n",
    "        total_accuracy+=(accuracy*len(batch_x))\n",
    "    return total_accuracy/n_examples"
   ]
  },
  {
   "cell_type": "code",
   "execution_count": 66,
   "metadata": {
    "scrolled": false
   },
   "outputs": [
    {
     "name": "stdout",
     "output_type": "stream",
     "text": [
      "training...\n",
      "\n",
      "Epoch1...\n",
      "Validation Accuracy=0.825\n",
      "\n",
      "Epoch2...\n",
      "Validation Accuracy=0.914\n",
      "\n",
      "Epoch3...\n",
      "Validation Accuracy=0.950\n",
      "\n",
      "Epoch4...\n",
      "Validation Accuracy=0.965\n",
      "\n",
      "Epoch5...\n",
      "Validation Accuracy=0.967\n",
      "\n",
      "Epoch6...\n",
      "Validation Accuracy=0.970\n",
      "\n",
      "Epoch7...\n",
      "Validation Accuracy=0.970\n",
      "\n",
      "Epoch8...\n",
      "Validation Accuracy=0.973\n",
      "\n",
      "Epoch9...\n",
      "Validation Accuracy=0.974\n",
      "\n",
      "Epoch10...\n",
      "Validation Accuracy=0.981\n",
      "\n",
      "Epoch11...\n",
      "Validation Accuracy=0.978\n",
      "\n",
      "Epoch12...\n",
      "Validation Accuracy=0.981\n",
      "\n",
      "Epoch13...\n",
      "Validation Accuracy=0.975\n",
      "\n",
      "Epoch14...\n",
      "Validation Accuracy=0.983\n",
      "\n",
      "Epoch15...\n",
      "Validation Accuracy=0.981\n",
      "\n",
      "Epoch16...\n",
      "Validation Accuracy=0.983\n",
      "\n",
      "Epoch17...\n",
      "Validation Accuracy=0.984\n",
      "\n",
      "Epoch18...\n",
      "Validation Accuracy=0.981\n",
      "\n",
      "Epoch19...\n",
      "Validation Accuracy=0.982\n",
      "\n",
      "Epoch20...\n",
      "Validation Accuracy=0.987\n",
      "\n",
      "Epoch21...\n",
      "Validation Accuracy=0.986\n",
      "\n",
      "Epoch22...\n",
      "Validation Accuracy=0.987\n",
      "\n",
      "Epoch23...\n",
      "Validation Accuracy=0.988\n",
      "\n",
      "Epoch24...\n",
      "Validation Accuracy=0.984\n",
      "\n",
      "Epoch25...\n",
      "Validation Accuracy=0.984\n",
      "\n",
      "Epoch26...\n",
      "Validation Accuracy=0.988\n",
      "\n",
      "Epoch27...\n",
      "Validation Accuracy=0.989\n",
      "\n",
      "Epoch28...\n",
      "Validation Accuracy=0.989\n",
      "\n",
      "Epoch29...\n",
      "Validation Accuracy=0.989\n",
      "\n",
      "Epoch30...\n",
      "Validation Accuracy=0.988\n",
      "\n",
      "Epoch31...\n",
      "Validation Accuracy=0.987\n",
      "\n",
      "Epoch32...\n",
      "Validation Accuracy=0.987\n",
      "\n",
      "Epoch33...\n",
      "Validation Accuracy=0.988\n",
      "\n",
      "Epoch34...\n",
      "Validation Accuracy=0.989\n",
      "\n",
      "Epoch35...\n",
      "Validation Accuracy=0.989\n",
      "\n",
      "Epoch36...\n",
      "Validation Accuracy=0.989\n",
      "\n",
      "Epoch37...\n",
      "Validation Accuracy=0.989\n",
      "\n",
      "Epoch38...\n",
      "Validation Accuracy=0.981\n",
      "\n",
      "Epoch39...\n",
      "Validation Accuracy=0.987\n",
      "\n",
      "Epoch40...\n",
      "Validation Accuracy=0.988\n",
      "\n",
      "Epoch41...\n",
      "Validation Accuracy=0.989\n",
      "\n",
      "Epoch42...\n",
      "Validation Accuracy=0.988\n",
      "\n",
      "Epoch43...\n",
      "Validation Accuracy=0.989\n",
      "\n",
      "Epoch44...\n",
      "Validation Accuracy=0.988\n",
      "\n",
      "Epoch45...\n",
      "Validation Accuracy=0.989\n",
      "\n",
      "Epoch46...\n",
      "Validation Accuracy=0.988\n",
      "\n",
      "Epoch47...\n",
      "Validation Accuracy=0.984\n",
      "\n",
      "Epoch48...\n",
      "Validation Accuracy=0.987\n",
      "\n",
      "Epoch49...\n",
      "Validation Accuracy=0.988\n",
      "\n",
      "Epoch50...\n",
      "Validation Accuracy=0.988\n",
      "\n",
      "Model saved\n"
     ]
    }
   ],
   "source": [
    "## Training the model\n",
    "with tf.Session() as sess:\n",
    "    sess.run(tf.global_variables_initializer())\n",
    "    n_examples = len(X_train)\n",
    "    \n",
    "    print('training...')\n",
    "    print()\n",
    "    for i in range(Epochs):\n",
    "        X_train,y_train=shuffle(X_train,y_train)\n",
    "        for offset in range(0,n_examples,Batch_size):\n",
    "            batch_x,batch_y=X_train[offset:(offset+Batch_size)],y_train[offset:(offset+Batch_size)]\n",
    "            sess.run(training_operation,feed_dict={x:batch_x,y:batch_y})\n",
    "        validation_accuracy=evaluate(X_validation,y_validation)\n",
    "        print(\"Epoch{}...\".format(i+1))\n",
    "        print(\"Validation Accuracy={:.3f}\".format(validation_accuracy))\n",
    "        print()\n",
    "    try:\n",
    "        saver\n",
    "    except NameError:\n",
    "        saver=tf.train.Saver()\n",
    "    \n",
    "    saver.save(sess,'./lenet')\n",
    "    print(\"Model saved\")  "
   ]
  },
  {
   "cell_type": "code",
   "execution_count": 67,
   "metadata": {},
   "outputs": [
    {
     "name": "stdout",
     "output_type": "stream",
     "text": [
      "INFO:tensorflow:Restoring parameters from ./lenet\n",
      "test accuracy=0.910\n"
     ]
    }
   ],
   "source": [
    "# calculate the accuracy for test images\n",
    "with tf.Session() as sess:\n",
    "    saver.restore(sess,'./lenet')\n",
    "    test_accuracy=evaluate(X_test,y_test)\n",
    "    \n",
    "    print(\"test accuracy={:.3f}\".format(test_accuracy))\n",
    "    \n",
    "    "
   ]
  },
  {
   "cell_type": "markdown",
   "metadata": {},
   "source": [
    "---\n",
    "\n",
    "## Step 3: Test a Model on New Images\n",
    "\n",
    "To give yourself more insight into how your model is working, download at least five pictures of German traffic signs from the web and use your model to predict the traffic sign type.\n",
    "\n",
    "You may find `signnames.csv` useful as it contains mappings from the class id (integer) to the actual sign name."
   ]
  },
  {
   "cell_type": "markdown",
   "metadata": {},
   "source": [
    "### Load and Output the Images"
   ]
  },
  {
   "cell_type": "code",
   "execution_count": 68,
   "metadata": {},
   "outputs": [
    {
     "name": "stdout",
     "output_type": "stream",
     "text": [
      "['00010.png', '00006.jpg', '00003.png', '00004.jpg', '00009.jpg', '00005.jpg', '00001.jpg', '00007.jpg', '00008.jpg', '00002.png', '.ipynb_checkpoints']\n",
      "\n",
      "['00010.png', '00006.jpg', '00003.png', '00004.jpg', '00009.jpg', '00005.jpg', '00001.jpg', '00007.jpg', '00008.jpg', '00002.png']\n"
     ]
    },
    {
     "data": {
      "image/png": "[encoded data removed]",
      "text/plain": [
       "<matplotlib.figure.Figure at 0x7f8db3cdc400>"
      ]
     },
     "metadata": {},
     "output_type": "display_data"
    }
   ],
   "source": [
    "### Load the images and plot them here.\n",
    "### Feel free to use as many code cells as needed.\n",
    "import matplotlib.pyplot as plt  # image format is converted to PNG sicne plt only supports PNG\n",
    "import os\n",
    "import cv2\n",
    "folder=\"./Test images/\"\n",
    "images=os.listdir(folder)\n",
    "example_im=[]\n",
    "print(images)\n",
    "images.remove('.ipynb_checkpoints')\n",
    "print()\n",
    "print(images)\n",
    "plt.subplots_adjust(hspace=0.1,wspace =0.5)\n",
    "#fig.subplots_adjust(hspace=0.2,wspace=0.001)\n",
    "i=0\n",
    "\n",
    "for image in images:\n",
    "    plt.subplot(2,5,i+1)\n",
    "    im=cv2.imread(os.path.join(folder,image))\n",
    "    im=cv2.cvtColor(im,cv2.COLOR_BGR2RGB)  \n",
    "    implot=plt.imshow(im)  \n",
    "    i+=1 \n",
    "    example_im.append(im)\n",
    "plt.show()\n",
    "\n",
    "\n",
    "#plt.figure(figsize=[4,2]) # set image size\n",
    "#plt.subplots_adjust(hspace=0.1,wspace =0.5)# set distance between the subplots"
   ]
  },
  {
   "cell_type": "markdown",
   "metadata": {},
   "source": [
    "### Predict the Sign Type for Each Image"
   ]
  },
  {
   "cell_type": "code",
   "execution_count": 69,
   "metadata": {},
   "outputs": [
    {
     "name": "stdout",
     "output_type": "stream",
     "text": [
      "(10, 32, 32, 3)\n",
      "(10, 32, 32, 1)\n"
     ]
    },
    {
     "data": {
      "image/png": "[encoded data removed]",
      "text/plain": [
       "<matplotlib.figure.Figure at 0x7f8dbce2c438>"
      ]
     },
     "metadata": {},
     "output_type": "display_data"
    },
    {
     "name": "stdout",
     "output_type": "stream",
     "text": [
      "INFO:tensorflow:Restoring parameters from ./lenet\n",
      "00010.png - prediction: 18\n",
      "00006.jpg - prediction: 38\n",
      "00003.png - prediction: 34\n",
      "00004.jpg - prediction: 19\n",
      "00009.jpg - prediction: 1\n",
      "00005.jpg - prediction: 41\n",
      "00001.jpg - prediction: 0\n",
      "00007.jpg - prediction: 42\n",
      "00008.jpg - prediction: 2\n",
      "00002.png - prediction: 1\n"
     ]
    }
   ],
   "source": [
    "### Run the predictions here and use the model to output the prediction for each image.\n",
    "### Make sure to pre-process the images with the same pre-processing pipeline used earlier.\n",
    "### Feel free to use as many code cells as needed.\n",
    "# calculate the accuracy for test images\n",
    "\n",
    "### pre process the image\n",
    "\n",
    "import tensorflow as tf\n",
    "import numpy as np\n",
    "example_im=np.asarray(example_im)\n",
    "example_gray=np.sum(example_im/3,axis=3,keepdims=True)\n",
    "example_nor=(example_gray-np.mean(example_gray))/(np.std(example_gray, axis=0))\n",
    "\n",
    "X_example=example_nor\n",
    "y_example=np.array([18,38,34,19,25,36,0,40,3,1])\n",
    "y_label=np.array(['General caution','Keep right','Turn left ahead','Dangerous curve to the left','Road work','Go straight or right','Speed limit (20km/h)','Roundabout mandatory','Speed limit (60km/h)','Speed limit (30km/h)'])\n",
    "print(example_im.shape)\n",
    "print(example_nor.shape)\n",
    "### Display grayscale images for examples\n",
    "plt.subplots_adjust(hspace=0.1,wspace =0.5)\n",
    "for i in range(len(example_im)):\n",
    "    plt.subplot(2,5,i+1)\n",
    "    im=plt.imshow(example_gray[i].squeeze(),cmap='gray')\n",
    "plt.show()\n",
    "\n",
    "\n",
    "with tf.Session() as sess:\n",
    "    sess.run(tf.global_variables_initializer())\n",
    "    saver.restore(sess,'./lenet')\n",
    "    prediction=sess.run(logits,feed_dict={x:X_example})\n",
    "    prediction_labels=sess.run(tf.argmax(logits,axis=1),feed_dict={x:X_example})\n",
    "    \n",
    "    for i in range(len(X_example)):\n",
    "        print(\"{0} - prediction: {1}\".format(images[i],prediction_labels[i]))"
   ]
  },
  {
   "cell_type": "markdown",
   "metadata": {},
   "source": [
    "### Analyze Performance"
   ]
  },
  {
   "cell_type": "code",
   "execution_count": 70,
   "metadata": {},
   "outputs": [
    {
     "name": "stdout",
     "output_type": "stream",
     "text": [
      "INFO:tensorflow:Restoring parameters from ./lenet\n",
      "test accuracy=60%\n"
     ]
    }
   ],
   "source": [
    "### Calculate the accuracy for these 5 new images. \n",
    "### For example, if the model predicted 1 out of 5 signs correctly, it's 20% accurate on these new images.\n",
    "\n",
    "\n",
    "with tf.Session() as sess:\n",
    "    saver.restore(sess,'./lenet')\n",
    "    example_accuracy=evaluate(X_example,y_example)*100\n",
    "    \n",
    "    print(\"test accuracy={:.0f}%\".format(example_accuracy))\n",
    "    prediction=tf.nn.softmax(logits)"
   ]
  },
  {
   "cell_type": "markdown",
   "metadata": {},
   "source": [
    "### Output Top 5 Softmax Probabilities For Each Image Found on the Web"
   ]
  },
  {
   "cell_type": "markdown",
   "metadata": {},
   "source": [
    "For each of the new images, print out the model's softmax probabilities to show the **certainty** of the model's predictions (limit the output to the top 5 probabilities for each image). [`tf.nn.top_k`](https://www.tensorflow.org/versions/r0.12/api_docs/python/nn.html#top_k) could prove helpful here. \n",
    "\n",
    "The example below demonstrates how tf.nn.top_k can be used to find the top k predictions for each image.\n",
    "\n",
    "`tf.nn.top_k` will return the values and indices (class ids) of the top k predictions. So if k=3, for each sign, it'll return the 3 largest probabilities (out of a possible 43) and the correspoding class ids.\n",
    "\n",
    "Take this numpy array as an example. The values in the array represent predictions. The array contains softmax probabilities for five candidate images with six possible classes. `tf.nn.top_k` is used to choose the three classes with the highest probability:\n",
    "\n",
    "```\n",
    "# (5, 6) array\n",
    "a = np.array([[ 0.24879643,  0.07032244,  0.12641572,  0.34763842,  0.07893497,\n",
    "         0.12789202],\n",
    "       [ 0.28086119,  0.27569815,  0.08594638,  0.0178669 ,  0.18063401,\n",
    "         0.15899337],\n",
    "       [ 0.26076848,  0.23664738,  0.08020603,  0.07001922,  0.1134371 ,\n",
    "         0.23892179],\n",
    "       [ 0.11943333,  0.29198961,  0.02605103,  0.26234032,  0.1351348 ,\n",
    "         0.16505091],\n",
    "       [ 0.09561176,  0.34396535,  0.0643941 ,  0.16240774,  0.24206137,\n",
    "         0.09155967]])\n",
    "```\n",
    "\n",
    "Running it through `sess.run(tf.nn.top_k(tf.constant(a), k=3))` produces:\n",
    "\n",
    "```\n",
    "TopKV2(values=array([[ 0.34763842,  0.24879643,  0.12789202],\n",
    "       [ 0.28086119,  0.27569815,  0.18063401],\n",
    "       [ 0.26076848,  0.23892179,  0.23664738],\n",
    "       [ 0.29198961,  0.26234032,  0.16505091],\n",
    "       [ 0.34396535,  0.24206137,  0.16240774]]), indices=array([[3, 0, 5],\n",
    "       [0, 1, 4],\n",
    "       [0, 5, 1],\n",
    "       [1, 3, 5],\n",
    "       [1, 4, 3]], dtype=int32))\n",
    "```\n",
    "\n",
    "Looking just at the first row we get `[ 0.34763842,  0.24879643,  0.12789202]`, you can confirm these are the 3 largest probabilities in `a`. You'll also notice `[3, 0, 5]` are the corresponding indices."
   ]
  },
  {
   "cell_type": "code",
   "execution_count": 71,
   "metadata": {},
   "outputs": [
    {
     "name": "stdout",
     "output_type": "stream",
     "text": [
      "INFO:tensorflow:Restoring parameters from ./lenet\n"
     ]
    }
   ],
   "source": [
    "### Print out the top five softmax probabilities for the predictions on the German traffic sign images found on the web. \n",
    "### Feel free to use as many code cells as needed.\n",
    "example_soft=tf.nn.softmax(logits)\n",
    "top_k=tf.nn.top_k(example_soft,k=3)\n",
    "with tf.Session() as sess:\n",
    "    sess.run(tf.global_variables_initializer())\n",
    "    saver.restore(sess,'./lenet')\n",
    "    prediction_labels=sess.run(example_soft,feed_dict={x:X_example})\n",
    "    Top_k=sess.run(top_k,feed_dict={x:X_example})\n"
   ]
  },
  {
   "cell_type": "code",
   "execution_count": 72,
   "metadata": {},
   "outputs": [
    {
     "name": "stdout",
     "output_type": "stream",
     "text": [
      "00010.png:\n",
      "18:100.0%\n",
      "26:2.1975314645048554e-20%\n",
      "27:2.1856232009050258e-23%\n",
      "\n",
      "00006.jpg:\n",
      "38:99.50044751167297%\n",
      "20:0.49450439400970936%\n",
      "36:0.004608755625667982%\n",
      "\n",
      "00003.png:\n",
      "34:100.0%\n",
      "38:1.8849924277003374e-18%\n",
      "36:1.6734153587889892e-19%\n",
      "\n",
      "00004.jpg:\n",
      "19:99.99918937683105%\n",
      "25:0.0008071051524893846%\n",
      "23:1.0647664932909862e-12%\n",
      "\n",
      "00009.jpg:\n",
      "1:99.96080994606018%\n",
      "11:0.038157415110617876%\n",
      "0:0.0009481890629103873%\n",
      "\n",
      "00005.jpg:\n",
      "41:97.19378352165222%\n",
      "40:2.4307264015078545%\n",
      "38:0.18400241388007998%\n",
      "\n",
      "00001.jpg:\n",
      "0:100.0%\n",
      "1:1.555692819010801e-06%\n",
      "4:1.5021378653149125e-16%\n",
      "\n",
      "00007.jpg:\n",
      "42:90.29443860054016%\n",
      "32:9.670494496822357%\n",
      "12:0.028340809512883425%\n",
      "\n",
      "00008.jpg:\n",
      "2:99.9982476234436%\n",
      "8:0.0010820954230439384%\n",
      "12:0.0005241356575425016%\n",
      "\n",
      "00002.png:\n",
      "1:100.0%\n",
      "6:1.0667673299813983e-27%\n",
      "5:3.6887313655357193e-28%\n",
      "\n"
     ]
    }
   ],
   "source": [
    "for i in range(len(X_example)):\n",
    "        print(\"{0}:\".format(images[i]))\n",
    "        for j in range(3):\n",
    "            print(\"{0}:{1}%\".format(Top_k[1][i][j],Top_k[0][i][j]*100))\n",
    "            \n",
    "        print()"
   ]
  },
  {
   "cell_type": "markdown",
   "metadata": {},
   "source": [
    "### Project Writeup\n",
    "\n",
    "Once you have completed the code implementation, document your results in a project writeup using this [template](https://github.com/udacity/CarND-Traffic-Sign-Classifier-Project/blob/master/writeup_template.md) as a guide. The writeup can be in a markdown or pdf file. "
   ]
  },
  {
   "cell_type": "markdown",
   "metadata": {},
   "source": [
    "> **Note**: Once you have completed all of the code implementations and successfully answered each question above, you may finalize your work by exporting the iPython Notebook as an HTML document. You can do this by using the menu above and navigating to  \\n\",\n",
    "    \"**File -> Download as -> HTML (.html)**. Include the finished document along with this notebook as your submission."
   ]
  },
  {
   "cell_type": "markdown",
   "metadata": {},
   "source": [
    "---\n",
    "\n",
    "## Step 4 (Optional): Visualize the Neural Network's State with Test Images\n",
    "\n",
    " This Section is not required to complete but acts as an additional excersise for understaning the output of a neural network's weights. While neural networks can be a great learning device they are often referred to as a black box. We can understand what the weights of a neural network look like better by plotting their feature maps. After successfully training your neural network you can see what it's feature maps look like by plotting the output of the network's weight layers in response to a test stimuli image. From these plotted feature maps, it's possible to see what characteristics of an image the network finds interesting. For a sign, maybe the inner network feature maps react with high activation to the sign's boundary outline or to the contrast in the sign's painted symbol.\n",
    "\n",
    " Provided for you below is the function code that allows you to get the visualization output of any tensorflow weight layer you want. The inputs to the function should be a stimuli image, one used during training or a new one you provided, and then the tensorflow variable name that represents the layer's state during the training process, for instance if you wanted to see what the [LeNet lab's](https://classroom.udacity.com/nanodegrees/nd013/parts/fbf77062-5703-404e-b60c-95b78b2f3f9e/modules/6df7ae49-c61c-4bb2-a23e-6527e69209ec/lessons/601ae704-1035-4287-8b11-e2c2716217ad/concepts/d4aca031-508f-4e0b-b493-e7b706120f81) feature maps looked like for it's second convolutional layer you could enter conv2 as the tf_activation variable.\n",
    "\n",
    "For an example of what feature map outputs look like, check out NVIDIA's results in their paper [End-to-End Deep Learning for Self-Driving Cars](https://devblogs.nvidia.com/parallelforall/deep-learning-self-driving-cars/) in the section Visualization of internal CNN State. NVIDIA was able to show that their network's inner weights had high activations to road boundary lines by comparing feature maps from an image with a clear path to one without. Try experimenting with a similar test to show that your trained network's weights are looking for interesting features, whether it's looking at differences in feature maps from images with or without a sign, or even what feature maps look like in a trained network vs a completely untrained one on the same sign image.\n",
    "\n",
    "<figure>\n",
    " <img src=\"visualize_cnn.png\" width=\"380\" alt=\"Combined Image\" />\n",
    " <figcaption>\n",
    " <p></p> \n",
    " <p style=\"text-align: center;\"> Your output should look something like this (above)</p> \n",
    " </figcaption>\n",
    "</figure>\n",
    " <p></p> \n"
   ]
  },
  {
   "cell_type": "code",
   "execution_count": null,
   "metadata": {
    "collapsed": true
   },
   "outputs": [],
   "source": [
    "### Visualize your network's feature maps here.\n",
    "### Feel free to use as many code cells as needed.\n",
    "\n",
    "# image_input: the test image being fed into the network to produce the feature maps\n",
    "# tf_activation: should be a tf variable name used during your training procedure that represents the calculated state of a specific weight layer\n",
    "# activation_min/max: can be used to view the activation contrast in more detail, by default matplot sets min and max to the actual min and max values of the output\n",
    "# plt_num: used to plot out multiple different weight feature map sets on the same block, just extend the plt number for each new feature map entry\n",
    "\n",
    "def outputFeatureMap(image_input, tf_activation, activation_min=-1, activation_max=-1 ,plt_num=1):\n",
    "    # Here make sure to preprocess your image_input in a way your network expects\n",
    "    # with size, normalization, ect if needed\n",
    "    # image_input =\n",
    "    # Note: x should be the same name as your network's tensorflow data placeholder variable\n",
    "    # If you get an error tf_activation is not defined it may be having trouble accessing the variable from inside a function\n",
    "    activation = tf_activation.eval(session=sess,feed_dict={x : image_input})\n",
    "    featuremaps = activation.shape[3]\n",
    "    plt.figure(plt_num, figsize=(15,15))\n",
    "    for featuremap in range(featuremaps):\n",
    "        plt.subplot(6,8, featuremap+1) # sets the number of feature maps to show on each row and column\n",
    "        plt.title('FeatureMap ' + str(featuremap)) # displays the feature map number\n",
    "        if activation_min != -1 & activation_max != -1:\n",
    "            plt.imshow(activation[0,:,:, featuremap], interpolation=\"nearest\", vmin =activation_min, vmax=activation_max, cmap=\"gray\")\n",
    "        elif activation_max != -1:\n",
    "            plt.imshow(activation[0,:,:, featuremap], interpolation=\"nearest\", vmax=activation_max, cmap=\"gray\")\n",
    "        elif activation_min !=-1:\n",
    "            plt.imshow(activation[0,:,:, featuremap], interpolation=\"nearest\", vmin=activation_min, cmap=\"gray\")\n",
    "        else:\n",
    "            plt.imshow(activation[0,:,:, featuremap], interpolation=\"nearest\", cmap=\"gray\")"
   ]
  }
 ],
 "metadata": {
  "anaconda-cloud": {},
  "kernelspec": {
   "display_name": "Python 3",
   "language": "python",
   "name": "python3"
  },
  "language_info": {
   "codemirror_mode": {
    "name": "ipython",
    "version": 3
   },
   "file_extension": ".py",
   "mimetype": "text/x-python",
   "name": "python",
   "nbconvert_exporter": "python",
   "pygments_lexer": "ipython3",
   "version": "3.5.2"
  },
  "widgets": {
   "state": {},
   "version": "1.1.2"
  }
 },
 "nbformat": 4,
 "nbformat_minor": 1
}
